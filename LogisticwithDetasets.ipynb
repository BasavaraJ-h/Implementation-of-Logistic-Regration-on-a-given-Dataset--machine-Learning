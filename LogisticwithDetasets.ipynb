{
 "cells": [
  {
   "cell_type": "code",
   "execution_count": null,
   "metadata": {},
   "outputs": [],
   "source": [
    "import pandas as pd\n",
    "import numpy as np\n",
    "np.random.seed(42)\n",
    "\n",
    "def sigmoidFucntion(z):   \n",
    "    return 1 / (1 + np.exp(-z))\n",
    "\n",
    "def cost(theta, x, y):\n",
    "    h = sigmoidFucntion(x @ theta)\n",
    "    m = len(y)\n",
    "    cost = 1 / m * np.sum(\n",
    "        -y * np.log(h) - (1 - y) * np.log(1 - h)\n",
    "    )\n",
    "    grad = 1 / m * ((y - h) @ x)\n",
    "    return cost, grad\n",
    "\n",
    "def Featurefit(x, y, max_iter=100, alpha=0.1):\n",
    "    x = np.insert(x, 0, 1, axis=1)\n",
    "    thetas = []\n",
    "    classes = np.unique(y)\n",
    "    costs = np.zeros(max_iter)\n",
    "    for c in classes:\n",
    "        # one vs. rest binary classification\n",
    "        binary_y = np.where(y == c, 1, 0)      \n",
    "        theta = np.zeros(x.shape[1])\n",
    "        for epoch in range(max_iter):\n",
    "            costs[epoch], grad = cost(theta, x, binary_y)\n",
    "            theta += alpha * grad           \n",
    "        thetas.append(theta)\n",
    "    return thetas, classes, costs\n",
    "\n",
    "def predictFunction(classes, thetas, x):\n",
    "    x = np.insert(x, 0, 1, axis=1)\n",
    "    preds = [np.argmax(\n",
    "        [sigmoidFucntion(xi @ theta) for theta in thetas]\n",
    "    ) for xi in x]\n",
    "    return [classes[p] for p in preds]\n",
    "\n",
    "data = np.loadtxt(fname = \"D:/Assignment-2_CS5710/UCI_Dataset/pendigits_training.txt\")  \n",
    "                                                                        # satellite_training\n",
    "                                                                        # yeast_training\n",
    "                                                                        #pendigits_training\n",
    "tdata = np.loadtxt(fname = \"D:/Assignment-2_CS5710/UCI_Dataset/pendigits_test.txt\")  \n",
    "                                                                        #satellite_test\n",
    "                                                                        #  yeast_test\n",
    "                                                                        #pendigits_test\n",
    "\n",
    "x_train, y_train = data[:, :-1], data[:, -1] \n",
    "x_test, y_test = tdata[:, :-1], tdata[:, -1]\n",
    "\n",
    "thetas, classes, costs = Featurefit(x_train, y_train)\n",
    "final_thetas = ((thetas[len(thetas)-1]))\n",
    "\n",
    "print(\" Theata values : \\n \")\n",
    "for i in final_thetas:\n",
    "    print( '%.4f'%i )\n",
    "\n",
    "def mainfunctiontocall(classes, theta, x, y):\n",
    "    prediction = predictFunction(classes, theta, x)\n",
    "    print(prediction[0])\n",
    "    print (len(y))\n",
    "    i =0 \n",
    "    while (i < len(y)):\n",
    "        if (prediction[i] == y [i]):\n",
    "            print (\"ID= \",i , \"Output = \",prediction[i], \"True Class = \",y[i] , \"Accuracy= \", 1)\n",
    "        else:\n",
    "            print (\"ID= \",i , \"Output = \",prediction[i], \"True Class = \",y[i] , \"Accuracy= \", 0)\n",
    "        i = i + 1     \n",
    "    return  ( prediction == y).mean()\n",
    "\n",
    "mainfunctiontocall(classes, thetas, x_test, y_test)\n"
   ]
  },
  {
   "cell_type": "code",
   "execution_count": 143,
   "metadata": {},
   "outputs": [
    {
     "name": "stdout",
     "output_type": "stream",
     "text": [
      "[0.5 1. ] 0.0851895021952265\n",
      "[[-1  0]] 0.09653235263005391\n",
      "[0.0851895  0.09653235 0.15915494 0.14045374]\n"
     ]
    },
    {
     "name": "stderr",
     "output_type": "stream",
     "text": [
      "C:\\Users\\basav\\Anaconda3\\lib\\site-packages\\ipykernel_launcher.py:57: RuntimeWarning: covariance is not positive-semidefinite.\n",
      "C:\\Users\\basav\\Anaconda3\\lib\\site-packages\\ipykernel_launcher.py:63: RuntimeWarning: covariance is not positive-semidefinite.\n",
      "C:\\Users\\basav\\Anaconda3\\lib\\site-packages\\ipykernel_launcher.py:68: RuntimeWarning: covariance is not positive-semidefinite.\n"
     ]
    },
    {
     "data": {
      "image/png": "[encoded data removed]",
      "text/plain": [
       "<Figure size 1080x432 with 1 Axes>"
      ]
     },
     "metadata": {
      "needs_background": "light"
     },
     "output_type": "display_data"
    }
   ],
   "source": [
    "#!/usr/bin/env python\n",
    "# coding: utf-8\n",
    "\n",
    "# In[1]:\n",
    "\n",
    "\n",
    "import numpy as np\n",
    "import matplotlib.pyplot as plt\n",
    "import math\n",
    "import pandas as pd\n",
    "\n",
    "\n",
    "# In[13]:\n",
    "\n",
    "def multi_norm_pdf_single(x,mu,sigma):\n",
    "    d=(len(x))\n",
    "    return (1 / (((2 * math.pi)**d * np.linalg.det(sigma))**0.5) * \n",
    "            np.exp(-(np.linalg.solve(sigma, x - mu).T.dot(x - mu)) / 2))\n",
    "\n",
    "def multi_norm_pdf(x,mu,sigma):\n",
    "    # return the pdf value(s) of multdimensional data point(s) x \n",
    "    # for a normal distribution (mu, sigma)\n",
    "    if x.ndim == 1:\n",
    "        return multi_norm_pdf_single(x,mu,sigma)\n",
    "    elif len(x) == 1:\n",
    "         return multi_norm_pdf_single(x[0],mu,sigma)\n",
    "    else:\n",
    "        return np.array([multi_norm_pdf_single(e,mu,sigma) for e in x])\n",
    "\n",
    "x = np.array([0.5,1])\n",
    "#x = np.array([-1,0])\n",
    "print(x, multi_norm_pdf(x, [0,0], [[1,0],[0,1]])) #[0.5 1. ] 0.0851895021952265\n",
    "\n",
    "x = np.array([-1,0]).reshape(1,2)\n",
    "print(x, multi_norm_pdf(x, [0,0], [[1,0],[0,1]])) #[[-1  0]] 0.09653235263005391\n",
    "\n",
    "x = np.array([[0.5,1], [-1,0],[0,0],[0,0.5]])\n",
    "print(multi_norm_pdf(x, [0,0], [[1,0],[0,1]])) # [0.0851895  0.09653235 0.15915494 0.14045374]\n",
    "\n",
    "\n",
    "# In[ ]:\n",
    "\n",
    "\n",
    "plt.figure(figsize=(15,6))\n",
    "# Use np.random.multivariate_normal() to generate each group\n",
    "# Need repeat as many as there are groups with proper parameters\n",
    "# Use plt.scatter() to draw each group.\n",
    "#\n",
    "# Add your code below\n",
    "\n",
    "mean, cov = [1, 0.5], [(1, .5), (.5, 1)]\n",
    "data = np.random.multivariate_normal(mean, cov, 50)\n",
    "df = pd.DataFrame(data, columns=[\"x\", \"y\"])\n",
    "plt.plot(df.x, df.y, '.', color='skyblue');\n",
    "\n",
    "mean, cov = [6, 2.5], [(0,0.5), (.5, 0)]\n",
    "data = np.random.multivariate_normal(mean, cov, 100)\n",
    "df = pd.DataFrame(data, columns=[\"x\", \"y\"])\n",
    "plt.plot(df.x, df.y, '.', color='orange');\n",
    "\n",
    "\n",
    "mean, cov = [12, 2.5], [(0,0.5), (0.5, 0)]\n",
    "data = np.random.multivariate_normal(mean, cov, 100)\n",
    "df = pd.DataFrame(data, columns=[\"x\", \"y\"])\n",
    "plt.plot(df.x, df.y, '.', color='lightgreen');\n",
    "\n",
    "mean, cov = [16,3], [(0.5,1), (1,0.5)]\n",
    "data = np.random.multivariate_normal(mean, cov, 100)\n",
    "df = pd.DataFrame(data, columns=[\"x\", \"y\"])\n",
    "plt.plot(df.x, df.y, '.', color='firebrick');\n",
    "\n",
    "mean, cov = [20, 2.5], [(1,0.5), (.5,1)]\n",
    "data = np.random.multivariate_normal(mean, cov, 100)\n",
    "df = pd.DataFrame(data, columns=[\"x\", \"y\"])\n",
    "plt.plot(df.x, df.y, '.', color='mediumorchid');\n",
    "\n",
    "\n",
    "mean, cov = [25, 2.5], [(1,0.5), (.5,1)]\n",
    "data = np.random.multivariate_normal(mean, cov, 100)\n",
    "df = pd.DataFrame(data, columns=[\"x\", \"y\"])\n",
    "plt.plot(df.x, df.y, '.', color='lightcoral');\n",
    "\n",
    "plt.axis('scaled')\n",
    "\n",
    "plt.show()\n",
    "\n"
   ]
  },
  {
   "cell_type": "code",
   "execution_count": 36,
   "metadata": {},
   "outputs": [
    {
     "data": {
      "image/png": "[encoded data removed]",
      "text/plain": [
       "<Figure size 432x288 with 1 Axes>"
      ]
     },
     "metadata": {
      "needs_background": "light"
     },
     "output_type": "display_data"
    },
    {
     "data": {
      "image/png": "[encoded data removed]",
      "text/plain": [
       "<Figure size 432x288 with 1 Axes>"
      ]
     },
     "metadata": {
      "needs_background": "light"
     },
     "output_type": "display_data"
    },
    {
     "data": {
      "text/plain": [
       "(array([[-5. ,  2. ],\n",
       "        [ 5. ,  4. ],\n",
       "        [ 1. ,  0.5]]), None)"
      ]
     },
     "execution_count": 36,
     "metadata": {},
     "output_type": "execute_result"
    }
   ],
   "source": [
    "import matplotlib.pyplot as plt\n",
    "import numpy as np\n",
    "import scipy.stats as stats\n",
    "import math\n",
    "\n",
    "def  draw_d1_Gaussians(x):\n",
    "    mu = x[0]\n",
    "    variance = x[1] \n",
    "    sigma = math.sqrt(variance)\n",
    "    x = np.linspace( (mu - 3*sigma), (mu + 3*sigma), 100)\n",
    "    plt.plot(x, stats.norm.pdf(x, mu, sigma))\n",
    "    \n",
    "\n",
    "\n",
    "\n",
    "def d1_norm_pdf(x):\n",
    "   \n",
    "    if x.ndim == 1:\n",
    "        draw_d1_Gaussians(x)\n",
    "        plt.show()\n",
    "        \n",
    "    elif len(x) == 1:\n",
    "        draw_d1_Gaussians(x[0])\n",
    "        plt.show()\n",
    "    else:\n",
    "        np.array([draw_d1_Gaussians(e) for e in x])\n",
    "        plt.show()\n",
    "x=np.array([170,10])\n",
    "x, d1_norm_pdf(x)\n",
    "x= np.array([(-5,2),(5,4),(1,0.5)])\n",
    "x, d1_norm_pdf(x)\n"
   ]
  },
  {
   "cell_type": "code",
   "execution_count": 37,
   "metadata": {},
   "outputs": [
    {
     "name": "stdout",
     "output_type": "stream",
     "text": [
      "[-1.22474487  0.          1.22474487]\n",
      "[[-0.93385921 -0.09338592]\n",
      " [-0.84047329  0.84047329]\n",
      " [-0.74708737  1.7743325 ]]\n"
     ]
    }
   ],
   "source": [
    "def scale(x):\n",
    "    b=np.std(x)  \n",
    "    mean =np.mean(x) \n",
    "    return ( x-mean )/b\n",
    "\n",
    "x= np.array([1,2,3])\n",
    "print (scale(x))\n",
    "x= np.array([[1,10],[2,20],[3,30]])\n",
    "print (scale(x))\n"
   ]
  },
  {
   "cell_type": "code",
   "execution_count": 38,
   "metadata": {},
   "outputs": [
    {
     "name": "stdout",
     "output_type": "stream",
     "text": [
      "[-1.22474487  0.          1.22474487]\n",
      "[[-0.93385921 -0.09338592]\n",
      " [-0.84047329  0.84047329]\n",
      " [-0.74708737  1.7743325 ]]\n"
     ]
    }
   ],
   "source": [
    "\n",
    "import numpy as np\n",
    "def scale(x):\n",
    "    std=np.std(x)  \n",
    "    m =np.mean(x) \n",
    "    return ( x-m )/std\n",
    "\n",
    "x= np.array([1,2,3])\n",
    "print (scale(x))\n",
    "x= np.array([[1,10],[2,20],[3,30]])\n",
    "print (scale(x))"
   ]
  },
  {
   "cell_type": "code",
   "execution_count": null,
   "metadata": {},
   "outputs": [],
   "source": []
  }
 ],
 "metadata": {
  "kernelspec": {
   "display_name": "Python 3",
   "language": "python",
   "name": "python3"
  },
  "language_info": {
   "codemirror_mode": {
    "name": "ipython",
    "version": 3
   },
   "file_extension": ".py",
   "mimetype": "text/x-python",
   "name": "python",
   "nbconvert_exporter": "python",
   "pygments_lexer": "ipython3",
   "version": "3.7.3"
  }
 },
 "nbformat": 4,
 "nbformat_minor": 1
}
